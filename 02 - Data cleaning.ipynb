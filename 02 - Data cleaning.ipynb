{
 "cells": [
  {
   "cell_type": "code",
   "execution_count": 25,
   "id": "e6a3a744",
   "metadata": {},
   "outputs": [],
   "source": [
    "import pandas as pd\n",
    "import numpy as np\n",
    "import matplotlib.pyplot as plt \n",
    "import geopandas as gpd"
   ]
  },
  {
   "cell_type": "code",
   "execution_count": 26,
   "id": "78bf20e8",
   "metadata": {},
   "outputs": [],
   "source": [
    "data = pd.read_csv('dft_statistics_collision_and_casualty_last_5_years.csv', low_memory = False)\n",
    "data = data.copy()\n",
    "\n",
    "pd.options.mode.chained_assignment = None"
   ]
  },
  {
   "cell_type": "markdown",
   "id": "9ed152de",
   "metadata": {},
   "source": [
    "We can drop / rename duplicate columns arising from the left join of the Department for Transport collision and casualty datasets."
   ]
  },
  {
   "cell_type": "code",
   "execution_count": 27,
   "id": "24c416da",
   "metadata": {},
   "outputs": [],
   "source": [
    "data.rename(columns={'accident_year_x': 'accident_year', 'accident_reference_x': 'accident_reference'}, inplace=True)\n",
    "data.drop(labels=['accident_year_y', 'accident_reference_y', 'police_force'], axis=1, inplace=True)"
   ]
  },
  {
   "cell_type": "markdown",
   "id": "04cd8857",
   "metadata": {},
   "source": [
    "## Let's have a look at our data types and null values."
   ]
  },
  {
   "cell_type": "code",
   "execution_count": 28,
   "id": "b4818108",
   "metadata": {},
   "outputs": [
    {
     "name": "stdout",
     "output_type": "stream",
     "text": [
      "<class 'pandas.core.frame.DataFrame'>\n",
      "RangeIndex: 14611 entries, 0 to 14610\n",
      "Data columns (total 51 columns):\n",
      " #   Column                                       Non-Null Count  Dtype  \n",
      "---  ------                                       --------------  -----  \n",
      " 0   accident_index                               14611 non-null  object \n",
      " 1   accident_year                                14611 non-null  int64  \n",
      " 2   accident_reference                           14611 non-null  object \n",
      " 3   location_easting_osgr                        14610 non-null  float64\n",
      " 4   location_northing_osgr                       14610 non-null  float64\n",
      " 5   longitude                                    14610 non-null  float64\n",
      " 6   latitude                                     14610 non-null  float64\n",
      " 7   accident_severity                            14611 non-null  object \n",
      " 8   number_of_vehicles                           14611 non-null  int64  \n",
      " 9   number_of_casualties                         14611 non-null  int64  \n",
      " 10  date                                         14611 non-null  object \n",
      " 11  day_of_week                                  14611 non-null  object \n",
      " 12  time                                         14611 non-null  object \n",
      " 13  local_authority_district                     9200 non-null   object \n",
      " 14  local_authority_ons_district                 14611 non-null  object \n",
      " 15  local_authority_highway                      14611 non-null  object \n",
      " 16  first_road_class                             14611 non-null  object \n",
      " 17  first_road_number                            6544 non-null   object \n",
      " 18  road_type                                    14611 non-null  object \n",
      " 19  speed_limit                                  14611 non-null  int64  \n",
      " 20  junction_detail                              14611 non-null  object \n",
      " 21  junction_control                             14611 non-null  object \n",
      " 22  second_road_class                            14611 non-null  object \n",
      " 23  second_road_number                           12671 non-null  object \n",
      " 24  pedestrian_crossing_human_control            14611 non-null  object \n",
      " 25  pedestrian_crossing_physical_facilities      14611 non-null  object \n",
      " 26  light_conditions                             14611 non-null  object \n",
      " 27  weather_conditions                           14611 non-null  object \n",
      " 28  road_surface_conditions                      14611 non-null  object \n",
      " 29  special_conditions_at_site                   310 non-null    object \n",
      " 30  carriageway_hazards                          315 non-null    object \n",
      " 31  urban_or_rural_area                          14611 non-null  object \n",
      " 32  did_police_officer_attend_scene_of_accident  14611 non-null  object \n",
      " 33  trunk_road_flag                              14611 non-null  object \n",
      " 34  lsoa_of_accident_location                    14611 non-null  object \n",
      " 35  vehicle_reference                            14611 non-null  int64  \n",
      " 36  casualty_reference                           14611 non-null  int64  \n",
      " 37  casualty_class                               14611 non-null  object \n",
      " 38  sex_of_casualty                              14611 non-null  object \n",
      " 39  age_of_casualty                              14611 non-null  int64  \n",
      " 40  age_band_of_casualty                         14611 non-null  object \n",
      " 41  casualty_severity                            14611 non-null  object \n",
      " 42  pedestrian_location                          14611 non-null  object \n",
      " 43  pedestrian_movement                          14611 non-null  object \n",
      " 44  car_passenger                                14611 non-null  object \n",
      " 45  bus_or_coach_passenger                       14611 non-null  object \n",
      " 46  pedestrian_road_maintenance_worker           14611 non-null  object \n",
      " 47  casualty_type                                14611 non-null  object \n",
      " 48  casualty_home_area_type                      14611 non-null  object \n",
      " 49  casualty_imd_decile                          14611 non-null  object \n",
      " 50  lsoa_of_casualty                             14611 non-null  object \n",
      "dtypes: float64(4), int64(7), object(40)\n",
      "memory usage: 5.7+ MB\n"
     ]
    }
   ],
   "source": [
    "data.info()"
   ]
  },
  {
   "cell_type": "markdown",
   "id": "3fac0f60",
   "metadata": {},
   "source": [
    "Let's dig into our data types.\n",
    "\n",
    "We have a few numerical variables:\n",
    "\n",
    "* __accident_year__ although this information will be contained in the 'date' information. We can drop accident_year.\n",
    "* __location_easting_osgr, location_northing_osgr, longitude, latitude__ can be used to construct Shapely geometry points.\n",
    "* __number_of_vehicles__  we should be careful to not overcount due to duplicates of __accident_index__\n",
    "* __number_of_casualties__ we should be careful to not overcount due to duplicates of __accident_index__\n",
    "* __speed_limit__\n",
    "* __vehicle_reference__ and __casualty_reference__ won't hold any predictive power so we can drop these.\n",
    "* __age_of_casualty__\n",
    "\n",
    "aaaand we have a lot of categorical variables:\n",
    "\n",
    "* __accident_index__ (we won't include this in any modelling, but this will be useful to identify the unique crashes.)\n",
    "* __accident_reference__ This information is all contained in the accident_index column, so we can drop the accident_reference.\n",
    "* __accident_severity__\n",
    "* __date__ and __time__ should be converted into more useable data.\n",
    "* __day_of_week__\n",
    "* __local_authority_district__,  __local_authority_highway__,  and __local_authority_ons_district__ likely contain similar information, so we can drop 2 of 3.\n",
    "* __first_road_class__\n",
    "* __first_road_number__\n",
    "* __junction_detail__\n",
    "* __junction_control__\n",
    "* __second_road_class__\n",
    "* __second_road_number__\n",
    "* __pedestrian_crossing_human_control__\n",
    "* __pedestrian_crossing_physical_facilities__\n",
    "* __light_conditions__\n",
    "* __weather_conditions__\n",
    "* __road_surface_conditions__\n",
    "* __special_conditions_at_site__ and __carriageway_hazards__ contain a lot of null values.\n",
    "* __urban_or_rural_area__\n",
    "* __did_police_officer_attend_scene_of_accident__ won't be predictive of the accident itself and can likely be dropped.\n",
    "* __trunk_road_flag__\n",
    "* __lsoa_of_accident_location__\n",
    "* __casualty_class__ and __casualty_type__ likely contain similar information.\n",
    "* __sex_of_casualty__\n",
    "* __age_band_of_casualty__ \n",
    "* __casualty_severity__\n",
    "* __pedestrian_location__\n",
    "* __pedestrain_movement__\n",
    "* __car_passenger__\n",
    "* __bus_or_coach_passenger__\n",
    "* __pedestrian_road_maintenance_worker__\n",
    "* __casualty_home_area_type__\n",
    "* __casualty_imd_decile__\n",
    "* __lsoa_of_casualty__\n",
    "\n",
    "Let's convert those datetime objects and drop superfluous columns."
   ]
  },
  {
   "cell_type": "code",
   "execution_count": 29,
   "id": "880c518d",
   "metadata": {},
   "outputs": [],
   "source": [
    "# data.date = pd.to_datetime(data.date, format ='%d/%m/%Y')\n",
    "data['Year'] = pd.to_datetime(data.date, format ='%d/%m/%Y').dt.year\n",
    "data['Month'] = pd.to_datetime(data.date, format ='%d/%m/%Y').dt.month\n",
    "data['Day'] = pd.to_datetime(data.date, format ='%d/%m/%Y').dt.day\n",
    "\n",
    "data.time = pd.to_datetime(data.time, format='%H:%M').dt.hour\n",
    "\n",
    "data.drop(labels=['vehicle_reference', 'casualty_reference', 'accident_reference', 'accident_year', 'did_police_officer_attend_scene_of_accident', 'date'], axis=1, inplace=True)"
   ]
  },
  {
   "cell_type": "markdown",
   "id": "be072972",
   "metadata": {},
   "source": [
    "## Now let's drop columns where we're missing a lot of data.\n",
    "\n",
    "We have a lot of NaN values, but also some more disguised missing data. Some entries are labelled with -1 (both text and numeric present), 'Data missing or out of range', and 'Unknown'. Missing greater than a third of data is going to limit our predictive power so let's remove these columns from the off.\n"
   ]
  },
  {
   "cell_type": "code",
   "execution_count": 30,
   "id": "ba8aba97",
   "metadata": {},
   "outputs": [
    {
     "data": {
      "text/plain": [
       "[('location_easting_osgr', 0.0),\n",
       " ('location_northing_osgr', 0.0),\n",
       " ('longitude', 0.0),\n",
       " ('latitude', 0.0),\n",
       " ('local_authority_district', 37.0),\n",
       " ('first_road_number', 55.0),\n",
       " ('second_road_number', 13.0),\n",
       " ('special_conditions_at_site', 98.0),\n",
       " ('carriageway_hazards', 98.0)]"
      ]
     },
     "execution_count": 30,
     "metadata": {},
     "output_type": "execute_result"
    }
   ],
   "source": [
    "ser = data.isna().sum() / data.shape[0] * 100\n",
    "[(ind, np.round(ser[ind])) for ind in ser.index if ser[ind]]\n"
   ]
  },
  {
   "cell_type": "code",
   "execution_count": 31,
   "id": "6694b687",
   "metadata": {},
   "outputs": [
    {
     "data": {
      "text/plain": [
       "[('road_type', 1.0),\n",
       " ('junction_control', 47.0),\n",
       " ('second_road_number', 46.0),\n",
       " ('pedestrian_crossing_human_control', 0.0),\n",
       " ('pedestrian_crossing_physical_facilities', 0.0),\n",
       " ('weather_conditions', 2.0),\n",
       " ('road_surface_conditions', 0.0),\n",
       " ('special_conditions_at_site', 0.0),\n",
       " ('carriageway_hazards', 0.0),\n",
       " ('lsoa_of_accident_location', 0.0),\n",
       " ('sex_of_casualty', 0.0),\n",
       " ('age_of_casualty', 2.0),\n",
       " ('age_band_of_casualty', 2.0),\n",
       " ('car_passenger', 0.0),\n",
       " ('bus_or_coach_passenger', 0.0),\n",
       " ('pedestrian_road_maintenance_worker', 0.0),\n",
       " ('casualty_home_area_type', 25.0),\n",
       " ('casualty_imd_decile', 25.0),\n",
       " ('lsoa_of_casualty', 41.0)]"
      ]
     },
     "execution_count": 31,
     "metadata": {},
     "output_type": "execute_result"
    }
   ],
   "source": [
    "ser = data.isin([-1, '-1', 'Data missing or out of range', 'Unknown']).sum() / data.shape[0] * 100\n",
    "[(ind, np.round(ser[ind])) for ind in ser.index if ser[ind]]\n"
   ]
  },
  {
   "cell_type": "markdown",
   "id": "14422a98",
   "metadata": {},
   "source": [
    "The columns we might want to drop are:\n",
    "* local_authority_district (37 %)\n",
    "* first_road_number (55 %)\n",
    "* special_conditions_at_site (98 %)\n",
    "* carriageway_hazards (98 %)\n",
    "* junction_control (47 %)\n",
    "* second_road_number (13 %)\n",
    "* lsoa_of_casualty (41 %)\n",
    "\n",
    "First, let's investigate each of these columns further. "
   ]
  },
  {
   "cell_type": "markdown",
   "id": "a2f61c22",
   "metadata": {},
   "source": [
    "37% of local authority district data missing, but we have the full dataset for ONS district. Let's use this to infill the local authority district and then drop the ONS district column."
   ]
  },
  {
   "cell_type": "code",
   "execution_count": 32,
   "id": "397296ca",
   "metadata": {},
   "outputs": [
    {
     "name": "stdout",
     "output_type": "stream",
     "text": [
      "local_authority_district\n",
      "NaN          5411\n",
      "Sheffield    3450\n",
      "Doncaster    2440\n",
      "Rotherham    1703\n",
      "Barnsley     1607\n",
      "Name: count, dtype: int64\n",
      "local_authority_ons_district\n",
      "E08000019    5387\n",
      "E08000017    3953\n",
      "E08000018    2749\n",
      "E08000016    2522\n",
      "Name: count, dtype: int64\n",
      "local_authority_district\n",
      "Sheffield    5387\n",
      "Doncaster    3953\n",
      "Rotherham    2749\n",
      "Barnsley     2522\n",
      "Name: count, dtype: int64\n"
     ]
    }
   ],
   "source": [
    "print(data.local_authority_district.value_counts(dropna=False))\n",
    "print(data.local_authority_ons_district.value_counts(dropna=False))\n",
    "districts = {'E08000019': 'Sheffield', 'E08000017': 'Doncaster', 'E08000018': 'Rotherham', 'E08000016': 'Barnsley'}\n",
    "\n",
    "for ind,row in enumerate(data.local_authority_district):\n",
    "  if row is np.nan:\n",
    "    district = districts[data.local_authority_ons_district.iloc[ind]]\n",
    "    data.local_authority_district.iloc[ind] = district\n",
    "\n",
    "print(data.local_authority_district.value_counts(dropna=False))\n",
    "\n",
    "data.drop(labels=['local_authority_ons_district'], axis=1, inplace=True)"
   ]
  },
  {
   "cell_type": "code",
   "execution_count": 33,
   "id": "59a02e53",
   "metadata": {},
   "outputs": [
    {
     "name": "stdout",
     "output_type": "stream",
     "text": [
      "first_road_number\n",
      "NaN                                                                                                    8067\n",
      "first_road_class is C or Unclassified. These roads do not have official numbers so recorded as zero    6544\n",
      "Name: count, dtype: int64\n",
      "second_road_number\n",
      "Unknown                                                                                                6766\n",
      "first_road_class is C or Unclassified. These roads do not have official numbers so recorded as zero    5905\n",
      "NaN                                                                                                    1940\n",
      "Name: count, dtype: int64\n",
      "junction_control\n",
      "Data missing or out of range    6819\n",
      "Give way or uncontrolled        6065\n",
      "Auto traffic signal             1569\n",
      "Stop sign                        108\n",
      "Authorised person                 50\n",
      "Name: count, dtype: int64\n"
     ]
    }
   ],
   "source": [
    "print(data.first_road_number.value_counts(dropna=False))\n",
    "print(data.second_road_number.value_counts(dropna=False))\n",
    "print(data.junction_control.value_counts(dropna=False))"
   ]
  },
  {
   "cell_type": "markdown",
   "id": "c1e7583d",
   "metadata": {},
   "source": [
    "The road number columns don't appear to be very useful so we can drop these.\n",
    "\n",
    "There is no clear way to infer the junction control at each the site of each accident, and with 47 % of the data missing it probably won't be very helpful.\n",
    "\n",
    "Similarly, with 98 % of data missing for both 'special_conditions_at_site' and 'carriageway_hazards' we should drop these columns, too. We also can't infill the lsoa_of_casualty data, so let's drop this column."
   ]
  },
  {
   "cell_type": "code",
   "execution_count": 34,
   "id": "14e5cf08",
   "metadata": {},
   "outputs": [],
   "source": [
    "data.drop(labels=['first_road_number', 'second_road_number', 'junction_control', 'special_conditions_at_site', 'carriageway_hazards', 'lsoa_of_casualty'], axis=1, inplace=True)"
   ]
  },
  {
   "cell_type": "markdown",
   "id": "e61d930d",
   "metadata": {},
   "source": [
    "It also seems like we're missing location data for one entry. Let's drop this rows because we want to do some geographical analysis down the line."
   ]
  },
  {
   "cell_type": "code",
   "execution_count": 35,
   "id": "c2de5c27",
   "metadata": {},
   "outputs": [
    {
     "name": "stdout",
     "output_type": "stream",
     "text": [
      "longitude\n",
      "False    14610\n",
      "True         1\n",
      "Name: count, dtype: int64\n"
     ]
    }
   ],
   "source": [
    "print(data.longitude.isna().value_counts())\n",
    "data.drop(data[data.longitude.isnull()].index, inplace=True)"
   ]
  },
  {
   "cell_type": "markdown",
   "id": "04e1d060",
   "metadata": {},
   "source": [
    "We can make geometry points from the longitude and latitude data and then drop those columns."
   ]
  },
  {
   "cell_type": "code",
   "execution_count": 36,
   "id": "dd3159c3",
   "metadata": {},
   "outputs": [
    {
     "name": "stderr",
     "output_type": "stream",
     "text": [
      "c:\\Users\\Elena\\.conda\\envs\\DfT_project_env\\Lib\\site-packages\\pyproj\\crs\\crs.py:141: FutureWarning: '+init=<authority>:<code>' syntax is deprecated. '<authority>:<code>' is the preferred initialization method. When making the change, be mindful of axis order changes: https://pyproj4.github.io/pyproj/stable/gotchas.html#axis-order-changes-in-proj-6\n",
      "  in_crs_string = _prepare_from_proj_string(in_crs_string)\n"
     ]
    },
    {
     "data": {
      "text/plain": [
       "<Axes: >"
      ]
     },
     "execution_count": 36,
     "metadata": {},
     "output_type": "execute_result"
    },
    {
     "data": {
      "image/png": "[encoded data removed]",
      "text/plain": [
       "<Figure size 640x480 with 1 Axes>"
      ]
     },
     "metadata": {},
     "output_type": "display_data"
    }
   ],
   "source": [
    "data = gpd.GeoDataFrame(data, geometry = gpd.points_from_xy(data.longitude, data.latitude))\n",
    "data.crs = {'init': 'epsg:27700'}\n",
    "data.plot()"
   ]
  },
  {
   "cell_type": "code",
   "execution_count": 37,
   "id": "d6b75ab5",
   "metadata": {},
   "outputs": [],
   "source": [
    "data.drop(labels=['longitude', 'latitude', 'location_easting_osgr', 'location_northing_osgr'], axis=1, inplace=True)"
   ]
  },
  {
   "cell_type": "code",
   "execution_count": 38,
   "id": "dd437e5b",
   "metadata": {},
   "outputs": [],
   "source": [
    "data.to_csv('cleaned_dft_statistics_collision_and_casualty_last_5_years.csv', index=False)"
   ]
  },
  {
   "cell_type": "code",
   "execution_count": null,
   "id": "827ab148",
   "metadata": {},
   "outputs": [],
   "source": []
  }
 ],
 "metadata": {
  "kernelspec": {
   "display_name": "Python 3 (ipykernel)",
   "language": "python",
   "name": "python3"
  },
  "language_info": {
   "codemirror_mode": {
    "name": "ipython",
    "version": 3
   },
   "file_extension": ".py",
   "mimetype": "text/x-python",
   "name": "python",
   "nbconvert_exporter": "python",
   "pygments_lexer": "ipython3",
   "version": "3.12.0"
  }
 },
 "nbformat": 4,
 "nbformat_minor": 5
}
