{
 "cells": [
  {
   "cell_type": "code",
   "execution_count": 2,
   "id": "61fe3d8f",
   "metadata": {},
   "outputs": [],
   "source": [
    "import pandas as pd"
   ]
  },
  {
   "cell_type": "code",
   "execution_count": 3,
   "id": "ee854be0",
   "metadata": {},
   "outputs": [],
   "source": [
    "schema = pd.read_csv('stats19_schema.csv')\n",
    "coll_schema = schema[schema.table=='Accident']\n",
    "cas_schema = schema[schema.table=='Casualty']"
   ]
  },
  {
   "cell_type": "code",
   "execution_count": 4,
   "id": "d7f90700",
   "metadata": {},
   "outputs": [],
   "source": [
    "coll_url = r\"https://data.dft.gov.uk/road-accidents-safety-data/dft-road-casualty-statistics-collision-last-5-years.csv\"\n",
    "cas_url = r\"https://data.dft.gov.uk/road-accidents-safety-data/dft-road-casualty-statistics-casualty-last-5-years.csv\"\n",
    "\n",
    "coll_df = pd.read_csv(coll_url, low_memory = False)\n",
    "cas_df = pd.read_csv(cas_url, low_memory = False)"
   ]
  },
  {
   "cell_type": "code",
   "execution_count": 5,
   "id": "6b4144f0",
   "metadata": {},
   "outputs": [],
   "source": [
    "coll_df = coll_df[coll_df.police_force == 14]"
   ]
  },
  {
   "cell_type": "code",
   "execution_count": 6,
   "id": "06c9c151",
   "metadata": {},
   "outputs": [],
   "source": [
    "coll_df = pd.concat([coll_df[name].map(coll_schema[coll_schema.variable == name].set_index('code').label).copy() if name in coll_schema.variable.unique() else coll_df[name] for name in coll_df.columns], axis=1)"
   ]
  },
  {
   "cell_type": "code",
   "execution_count": 7,
   "id": "77178be1",
   "metadata": {},
   "outputs": [],
   "source": [
    "cas_df = pd.concat([\n",
    "    cas_df[name].map(cas_schema[cas_schema.variable == name].set_index('code').label).copy() if name in cas_schema.variable.unique() else cas_df[name] for name in cas_df.columns], axis=1)"
   ]
  },
  {
   "cell_type": "code",
   "execution_count": 8,
   "id": "46f60fa8",
   "metadata": {},
   "outputs": [
    {
     "data": {
      "text/plain": [
       "False    678417\n",
       "True      14611\n",
       "Name: accident_index, dtype: int64"
      ]
     },
     "execution_count": 8,
     "metadata": {},
     "output_type": "execute_result"
    }
   ],
   "source": [
    "cas_df.accident_index.isin(coll_df.accident_index).value_counts()"
   ]
  },
  {
   "cell_type": "code",
   "execution_count": 9,
   "id": "ed060d33",
   "metadata": {},
   "outputs": [],
   "source": [
    "joined = coll_df.merge(cas_df, on='accident_index', how='left')"
   ]
  },
  {
   "cell_type": "code",
   "execution_count": 11,
   "id": "b39fa8c8",
   "metadata": {},
   "outputs": [],
   "source": [
    "joined.to_csv('dft_statistics_collision_and_casualty_last_5_years.csv', index=False)"
   ]
  },
  {
   "cell_type": "code",
   "execution_count": null,
   "id": "5ade79e0",
   "metadata": {},
   "outputs": [],
   "source": []
  }
 ],
 "metadata": {
  "kernelspec": {
   "display_name": "Python 3 (ipykernel)",
   "language": "python",
   "name": "python3"
  },
  "language_info": {
   "codemirror_mode": {
    "name": "ipython",
    "version": 3
   },
   "file_extension": ".py",
   "mimetype": "text/x-python",
   "name": "python",
   "nbconvert_exporter": "python",
   "pygments_lexer": "ipython3",
   "version": "3.9.7"
  }
 },
 "nbformat": 4,
 "nbformat_minor": 5
}
