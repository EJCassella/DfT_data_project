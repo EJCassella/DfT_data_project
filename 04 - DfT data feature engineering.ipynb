{
 "cells": [
  {
   "cell_type": "code",
   "execution_count": 320,
   "metadata": {},
   "outputs": [],
   "source": [
    "import pandas as pd\n",
    "import numpy as np\n",
    "\n",
    "import matplotlib.pyplot as plt \n",
    "import seaborn as sns\n",
    "\n",
    "from sklearn.model_selection import train_test_split\n",
    "\n",
    "import warnings\n",
    "warnings.simplefilter(action='ignore', category=FutureWarning)"
   ]
  },
  {
   "cell_type": "code",
   "execution_count": 321,
   "metadata": {},
   "outputs": [],
   "source": [
    "train = pd.read_csv('training_data.csv', low_memory = False)\n",
    "test = pd.read_csv('test_data.csv')\n",
    "\n",
    "pd.options.mode.chained_assignment = None"
   ]
  },
  {
   "cell_type": "code",
   "execution_count": 322,
   "metadata": {},
   "outputs": [
    {
     "data": {
      "text/plain": [
       "Index(['accident_index', 'accident_severity', 'number_of_vehicles',\n",
       "       'number_of_casualties', 'day_of_week', 'time',\n",
       "       'local_authority_district', 'local_authority_highway',\n",
       "       'first_road_class', 'road_type', 'speed_limit', 'junction_detail',\n",
       "       'second_road_class', 'pedestrian_crossing_human_control',\n",
       "       'pedestrian_crossing_physical_facilities', 'light_conditions',\n",
       "       'weather_conditions', 'road_surface_conditions', 'urban_or_rural_area',\n",
       "       'trunk_road_flag', 'lsoa_of_accident_location', 'casualty_class',\n",
       "       'sex_of_casualty', 'age_of_casualty', 'age_band_of_casualty',\n",
       "       'casualty_severity', 'pedestrian_location', 'pedestrian_movement',\n",
       "       'car_passenger', 'bus_or_coach_passenger',\n",
       "       'pedestrian_road_maintenance_worker', 'casualty_type',\n",
       "       'casualty_home_area_type', 'casualty_imd_decile', 'Year', 'Month',\n",
       "       'Day', 'geometry'],\n",
       "      dtype='object')"
      ]
     },
     "execution_count": 322,
     "metadata": {},
     "output_type": "execute_result"
    }
   ],
   "source": [
    "train.columns"
   ]
  },
  {
   "cell_type": "markdown",
   "metadata": {},
   "source": [
    "# Dropping columns with little information"
   ]
  },
  {
   "cell_type": "code",
   "execution_count": 323,
   "metadata": {},
   "outputs": [],
   "source": [
    "train.drop(labels=['accident_index', 'accident_severity', 'first_road_class', 'road_type', 'second_road_class', 'trunk_road_flag', 'lsoa_of_accident_location', 'age_band_of_casualty', 'pedestrian_crossing_human_control', 'geometry', 'bus_or_coach_passenger', 'pedestrian_road_maintenance_worker', 'pedestrian_location', 'pedestrian_movement', 'local_authority_highway'], axis=1, inplace=True)"
   ]
  },
  {
   "cell_type": "code",
   "execution_count": 324,
   "metadata": {},
   "outputs": [
    {
     "data": {
      "text/plain": [
       "Index(['number_of_vehicles', 'number_of_casualties', 'day_of_week', 'time',\n",
       "       'local_authority_district', 'speed_limit', 'junction_detail',\n",
       "       'pedestrian_crossing_physical_facilities', 'light_conditions',\n",
       "       'weather_conditions', 'road_surface_conditions', 'urban_or_rural_area',\n",
       "       'casualty_class', 'sex_of_casualty', 'age_of_casualty',\n",
       "       'casualty_severity', 'car_passenger', 'casualty_type',\n",
       "       'casualty_home_area_type', 'casualty_imd_decile', 'Year', 'Month',\n",
       "       'Day'],\n",
       "      dtype='object')"
      ]
     },
     "execution_count": 324,
     "metadata": {},
     "output_type": "execute_result"
    }
   ],
   "source": [
    "train.columns"
   ]
  },
  {
   "cell_type": "markdown",
   "metadata": {},
   "source": [
    "# Combining columns with similar information"
   ]
  },
  {
   "cell_type": "code",
   "execution_count": 325,
   "metadata": {},
   "outputs": [
    {
     "name": "stdout",
     "output_type": "stream",
     "text": [
      "casualty_type\n",
      "Car occupant                                                 0.623618\n",
      "Pedestrian                                                   0.145257\n",
      "Cyclist                                                      0.086468\n",
      "Motorcycle 125cc and under rider or passenger                0.030080\n",
      "Van / Goods vehicle (3.5 tonnes mgw or under) occupant       0.025195\n",
      "Motorcycle over 500cc rider or passenger                     0.020567\n",
      "Bus or coach occupant (17 or more pass seats)                0.020053\n",
      "Taxi/Private hire car occupant                               0.008998\n",
      "Motorcycle - unknown cc rider or passenger                   0.007541\n",
      "Other vehicle occupant                                       0.006513\n",
      "Motorcycle 50cc and under rider or passenger                 0.005742\n",
      "Motorcycle over 125cc and up to 500cc rider or  passenger    0.003856\n",
      "Goods vehicle (unknown weight) occupant                      0.003599\n",
      "Goods vehicle (7.5 tonnes mgw and over) occupant             0.003599\n",
      "Mobility scooter rider                                       0.002400\n",
      "Minibus (8 - 16 passenger seats) occupant                    0.001971\n",
      "Agricultural vehicle occupant                                0.001285\n",
      "Goods vehicle (over 3.5t. and under 7.5t.) occupant          0.000943\n",
      "Electric motorcycle rider or passenger                       0.000857\n",
      "Tram occupant                                                0.000857\n",
      "Horse rider                                                  0.000600\n",
      "Name: proportion, dtype: float64\n",
      "casualty_class\n",
      "Driver or rider    0.713600\n",
      "Pedestrian         0.145257\n",
      "Passenger          0.141143\n",
      "Name: proportion, dtype: float64\n"
     ]
    }
   ],
   "source": [
    "print(train.casualty_type.value_counts(normalize=True))\n",
    "print(train.casualty_class.value_counts(normalize=True))"
   ]
  },
  {
   "cell_type": "markdown",
   "metadata": {},
   "source": [
    "The 'casualty_type' column contains some more granular information about the casualties. Here, casualties are seperated into the following groups:\n",
    "* Car occupant\n",
    "* Van / Goods vehicle (3.5 tonnes mgw or under) occupant\n",
    "* Motorcycle over 500cc rider or passenger\n",
    "* Cyclist\n",
    "* Pedestrian\n",
    "* Taxi/Private hire car occupant\n",
    "* Bus or coach occupant (17 or more pass seats)\n",
    "* Motorcycle 125cc and under rider or passenger\n",
    "* Motorcycle 50cc and under rider or passenger\n",
    "* Mobility scooter rider\n",
    "* Motorcycle - unknown cc rider or passenger\n",
    "* Other vehicle occupant\n",
    "* Motorcycle over 125cc and up to 500cc rider or passenger\n",
    "* Electric motorcycle rider or passenger\n",
    "* Good vehicle (over 3.5t. and under 7.5t.) occupant\n",
    "* Good vehicle (unknown weight) occupant\n",
    "* Minibus (8 - 16 passenger seats) occupant\n",
    "* Tram occupant\n",
    "* Horse rider\n",
    "* Agricultural vehicle occupant\n",
    "\n",
    "Wow, that is a lot of information!\n",
    "\n",
    "From the normalized value_counts() it is clear that there is more information in certain categories of 'casualty_type' than others. Also, while we now have more information (seperating cyclists from drivers, and differentiating between vehicle types) we have lost the information on whether the occupants were drivers or passengers.\n",
    "\n",
    "Let's combine the 'casualty_class' and 'casualty_type' columns to create more granular information about the casualties. It will also be helpful for modelling down the line to reduce the number of categories. We will:\n",
    "1. Differentiate between drivers and passengers for all vehicle types.\n",
    "2. Combine motorcycle categories.\n",
    "3. Combine minibus drivers and passengers into car drivers and passengers.\n",
    "4. Combine goods vehicle categories.\n",
    "5. Combine bus, taxi, and tram categories as public transports (drivers or passengers).\n",
    "6. Horse rider, Agricultural vehicle occupant, and Mobility scooter rider contain little information, so we will combine those into the 'Other vehicle occupant category'.\n",
    "\n",
    "Down the line, we may want to simply combine the casualties into one 'Driver' or 'Passenger' feature, rather than differentiating between vehicle type. For now we will leave it to retain the granularity of the information.\n",
    "\n",
    "In the cell below we will combine and relabel our new categories (albeit in quite a hacky way).\n",
    "\n",
    "Let's drop the 'casualty_class' column so we're not repeating information."
   ]
  },
  {
   "cell_type": "code",
   "execution_count": 326,
   "metadata": {},
   "outputs": [],
   "source": [
    "train.loc[(train.casualty_class == 'Driver or rider') & ((train.casualty_type == 'Car occupant') | (train.casualty_type == 'Minibus (8 - 16 passenger seats) occupant')), 'casualty_type'] = 'Car driver'\n",
    "train.loc[(train.casualty_class == 'Passenger') & ((train.casualty_type == 'Car occupant') | (train.casualty_type == 'Minibus (8 - 16 passenger seats) occupant')), 'casualty_type'] = 'Car passenger'\n",
    "train.loc[(train.casualty_class == 'Driver or rider') & (train.casualty_type.str.contains('motorcycle', case = False)), 'casualty_type'] = 'Motorcycle rider'\n",
    "train.loc[(train.casualty_class == 'Passenger') & (train.casualty_type.str.contains('motorcycle', case = False)), 'casualty_type'] = 'Motorcycle passenger'\n",
    "\n",
    "train.loc[train.casualty_type.str.contains('goods vehicle', case = False), 'casualty_type'] = 'Goods vehicle occupant'\n",
    "train.loc[train.casualty_type.str.contains('bus|taxi|tram', case = False), 'casualty_type'] = 'Public transport occupant'\n",
    "train.loc[train.casualty_type.str.contains('mobility|agricultural|horse', case = False), 'casualty_type'] = 'Other vehicle occupant'\n",
    "\n",
    "\n",
    "train.loc[(train.casualty_class == 'Driver or rider') & (train.casualty_type == 'Goods vehicle occupant'), 'casualty_type'] = 'Goods vehicle driver'\n",
    "train.loc[(train.casualty_class == 'Passenger') & (train.casualty_type == 'Goods vehicle occupant'), 'casualty_type'] = 'Goods vehicle passenger'\n",
    "\n",
    "train.loc[(train.casualty_class == 'Driver or rider') & (train.casualty_type == 'Public transport occupant'), 'casualty_type'] = 'Public transport driver'\n",
    "train.loc[(train.casualty_class == 'Passenger') & (train.casualty_type == 'Public transport occupant'), 'casualty_type'] = 'Public transport passenger'\n",
    "\n",
    "train.drop(labels='casualty_class', inplace=True, axis=1)"
   ]
  },
  {
   "cell_type": "code",
   "execution_count": 327,
   "metadata": {},
   "outputs": [
    {
     "data": {
      "text/plain": [
       "casualty_type\n",
       "Car driver                    5994\n",
       "Pedestrian                    1695\n",
       "Car passenger                 1306\n",
       "Cyclist                       1009\n",
       "Motorcycle rider               775\n",
       "Goods vehicle driver           342\n",
       "Public transport passenger     245\n",
       "Other vehicle occupant         126\n",
       "Public transport driver        104\n",
       "Goods vehicle passenger         47\n",
       "Motorcycle passenger            26\n",
       "Name: count, dtype: int64"
      ]
     },
     "execution_count": 327,
     "metadata": {},
     "output_type": "execute_result"
    }
   ],
   "source": [
    "train.casualty_type.value_counts()"
   ]
  },
  {
   "cell_type": "markdown",
   "metadata": {},
   "source": [
    "We will fill the unknown pedestrian_crossing_physical_facilities with the most common value"
   ]
  },
  {
   "cell_type": "code",
   "execution_count": 328,
   "metadata": {},
   "outputs": [
    {
     "name": "stdout",
     "output_type": "stream",
     "text": [
      "pedestrian_crossing_physical_facilities\n",
      "No physical crossing facilities within 50 metres                             10023\n",
      "Pedestrian phase at traffic signal junction                                    492\n",
      "Pelican, puffin, toucan or similar non-junction pedestrian light crossing      469\n",
      "Zebra                                                                          365\n",
      "Central refuge                                                                 278\n",
      "Footbridge or subway                                                            21\n",
      "Data missing or out of range                                                    21\n",
      "Name: count, dtype: int64\n"
     ]
    }
   ],
   "source": [
    "print(train.pedestrian_crossing_physical_facilities.value_counts(dropna=False))\n",
    "train.loc[train.pedestrian_crossing_physical_facilities.str.contains('Data missing'), 'pedestrian_crossing_physical_facilities'] = train.pedestrian_crossing_physical_facilities.value_counts().sort_values(ascending=False).index[0]"
   ]
  },
  {
   "cell_type": "code",
   "execution_count": 329,
   "metadata": {},
   "outputs": [
    {
     "name": "stdout",
     "output_type": "stream",
     "text": [
      "light_conditions\n",
      "Daylight                       7978\n",
      "Darkness - lights lit          2798\n",
      "Darkness - no lighting          637\n",
      "Darkness - lighting unknown     154\n",
      "Darkness - lights unlit         102\n",
      "Name: count, dtype: int64\n"
     ]
    }
   ],
   "source": [
    "print(train.light_conditions.value_counts(dropna=False))\n",
    "train.loc[train.light_conditions.str.contains('no lighting|lighting unknown|lights unlit', case = False), 'light_conditions'] = 'Darkness'\n"
   ]
  },
  {
   "cell_type": "markdown",
   "metadata": {},
   "source": [
    "We will seperate the wind conditions from the weather conditions, and then combine the raining, fine, and snowing categories in the weather conditions column."
   ]
  },
  {
   "cell_type": "code",
   "execution_count": 330,
   "metadata": {},
   "outputs": [
    {
     "data": {
      "text/plain": [
       "weather_conditions\n",
       "Fine no high winds       9030\n",
       "Raining no high winds    1537\n",
       "Other                     381\n",
       "Unknown                   186\n",
       "Fine + high winds         185\n",
       "Raining + high winds      183\n",
       "Snowing no high winds      85\n",
       "Fog or mist                62\n",
       "Snowing + high winds       20\n",
       "Name: count, dtype: int64"
      ]
     },
     "execution_count": 330,
     "metadata": {},
     "output_type": "execute_result"
    }
   ],
   "source": [
    "train.weather_conditions.value_counts(dropna=False)"
   ]
  },
  {
   "cell_type": "code",
   "execution_count": 331,
   "metadata": {},
   "outputs": [],
   "source": [
    "train['wind_conditions'] = 0\n",
    "train.loc[train.weather_conditions.str.contains(r'\\+ high winds', case = False), 'wind_conditions'] = '1'\n",
    "train.loc[train.weather_conditions.str.contains('fine', case=False), 'weather_conditions'] = 'Fine'\n",
    "train.loc[train.weather_conditions.str.contains('rain', case=False), 'weather_conditions'] = 'Raining'\n",
    "train.loc[train.weather_conditions.str.contains('snow', case=False), 'weather_conditions'] = 'Snowing'\n",
    "train.loc[train.weather_conditions.str.contains('unknown|missing', case=False), 'weather_conditions'] = train.weather_conditions.value_counts().sort_values(ascending=False).index[0]\n"
   ]
  },
  {
   "cell_type": "code",
   "execution_count": 332,
   "metadata": {},
   "outputs": [
    {
     "data": {
      "text/plain": [
       "weather_conditions\n",
       "Fine           9401\n",
       "Raining        1720\n",
       "Other           381\n",
       "Snowing         105\n",
       "Fog or mist      62\n",
       "Name: count, dtype: int64"
      ]
     },
     "execution_count": 332,
     "metadata": {},
     "output_type": "execute_result"
    }
   ],
   "source": [
    "train.weather_conditions.value_counts(dropna=False)"
   ]
  },
  {
   "cell_type": "markdown",
   "metadata": {},
   "source": [
    "Again, we can combine some categories in road_surface_conditions, i.e. Snowing, snow, and frost or ice, raining with wet or damp, dry with fine. Missing data will be populated with the max value."
   ]
  },
  {
   "cell_type": "code",
   "execution_count": 333,
   "metadata": {},
   "outputs": [
    {
     "data": {
      "text/plain": [
       "road_surface_conditions\n",
       "Dry                             8044\n",
       "Wet or damp                     3404\n",
       "Frost or ice                     122\n",
       "Snow                              69\n",
       "Data missing or out of range      26\n",
       "Flood over 3cm. deep               4\n",
       "Name: count, dtype: int64"
      ]
     },
     "execution_count": 333,
     "metadata": {},
     "output_type": "execute_result"
    }
   ],
   "source": [
    "train.road_surface_conditions.value_counts(dropna=False)"
   ]
  },
  {
   "cell_type": "code",
   "execution_count": 334,
   "metadata": {},
   "outputs": [],
   "source": [
    "train.loc[train.road_surface_conditions.str.contains('snow|frost|ice', case = False), 'road_surface_conditions'] = 'Freezing'\n",
    "train.loc[train.road_surface_conditions.str.contains('dry', case = False), 'road_surface_conditions'] = 'Fine'\n",
    "train.loc[train.road_surface_conditions.str.contains('wet|damp|flood|raining', case = False), 'road_surface_conditions'] = 'Wet or damp'\n",
    "\n",
    "train.loc[train.road_surface_conditions.str.contains('unknown|missing', case=False), 'road_surface_conditions' ] = train.weather_conditions.value_counts().sort_values(ascending=False).index[0]"
   ]
  },
  {
   "cell_type": "code",
   "execution_count": 335,
   "metadata": {},
   "outputs": [
    {
     "data": {
      "text/plain": [
       "road_surface_conditions\n",
       "Fine           8070\n",
       "Wet or damp    3408\n",
       "Freezing        191\n",
       "Name: count, dtype: int64"
      ]
     },
     "execution_count": 335,
     "metadata": {},
     "output_type": "execute_result"
    }
   ],
   "source": [
    "train.road_surface_conditions.value_counts(dropna=False)"
   ]
  },
  {
   "cell_type": "code",
   "execution_count": 336,
   "metadata": {},
   "outputs": [],
   "source": [
    "train = train[~train.sex_of_casualty.str.contains('Data missing or out of range')]"
   ]
  },
  {
   "cell_type": "code",
   "execution_count": 337,
   "metadata": {},
   "outputs": [],
   "source": [
    "train = train[train.age_of_casualty != -1]"
   ]
  },
  {
   "cell_type": "code",
   "execution_count": 338,
   "metadata": {},
   "outputs": [],
   "source": [
    "train.loc[train.car_passenger.str.contains('unknown|missing', case=False), 'car_passenger'] = train.car_passenger.value_counts().sort_values(ascending=False).index[0]"
   ]
  },
  {
   "cell_type": "markdown",
   "metadata": {},
   "source": [
    "Okay, casualty_home_area_type and casualty_imd_decile have a lot of missing data (~23%), so we need to be a bit clever with filling the values. The data seems to be missing completely at random, so let's try a random imputation."
   ]
  },
  {
   "cell_type": "code",
   "execution_count": 339,
   "metadata": {},
   "outputs": [
    {
     "data": {
      "text/plain": [
       "casualty_home_area_type\n",
       "Urban area                      0.643176\n",
       "Data missing or out of range    0.233564\n",
       "Small town                      0.077913\n",
       "Rural                           0.045347\n",
       "Name: proportion, dtype: float64"
      ]
     },
     "execution_count": 339,
     "metadata": {},
     "output_type": "execute_result"
    }
   ],
   "source": [
    "train.casualty_home_area_type.value_counts(dropna=False, normalize=True)"
   ]
  },
  {
   "cell_type": "code",
   "execution_count": 340,
   "metadata": {},
   "outputs": [
    {
     "data": {
      "text/plain": [
       "casualty_imd_decile\n",
       "Data missing or out of range    0.234002\n",
       "Most deprived 10%               0.163617\n",
       "More deprived 10-20%            0.115644\n",
       "More deprived 20-30%            0.105752\n",
       "More deprived 30-40%            0.078438\n",
       "Less deprived 40-50%            0.066182\n",
       "More deprived 40-50%            0.057428\n",
       "Less deprived 30-40%            0.055677\n",
       "Less deprived 20-30%            0.050512\n",
       "Less deprived 10-20%            0.047798\n",
       "Least deprived 10%              0.024950\n",
       "Name: proportion, dtype: float64"
      ]
     },
     "execution_count": 340,
     "metadata": {},
     "output_type": "execute_result"
    }
   ],
   "source": [
    "train.casualty_imd_decile.value_counts(dropna=False, normalize=True)"
   ]
  },
  {
   "cell_type": "code",
   "execution_count": 341,
   "metadata": {},
   "outputs": [
    {
     "data": {
      "text/plain": [
       "casualty_home_area_type\n",
       "Urban area    10015\n",
       "Small town      890\n",
       "Rural           518\n",
       "Name: count, dtype: int64"
      ]
     },
     "execution_count": 341,
     "metadata": {},
     "output_type": "execute_result"
    }
   ],
   "source": [
    "train.loc[train.casualty_home_area_type.str.contains('Data missing'), 'casualty_home_area_type'] = np.NaN\n",
    "train.casualty_home_area_type.fillna(value=random.choice(train[train.casualty_home_area_type != np.NaN]['casualty_home_area_type']), inplace=True)\n",
    "train.casualty_home_area_type.value_counts(dropna=False)"
   ]
  },
  {
   "cell_type": "code",
   "execution_count": 342,
   "metadata": {},
   "outputs": [
    {
     "data": {
      "text/plain": [
       "casualty_imd_decile\n",
       "More deprived 30-40%    3569\n",
       "Most deprived 10%       1869\n",
       "More deprived 10-20%    1321\n",
       "More deprived 20-30%    1208\n",
       "Less deprived 40-50%     756\n",
       "More deprived 40-50%     656\n",
       "Less deprived 30-40%     636\n",
       "Less deprived 20-30%     577\n",
       "Less deprived 10-20%     546\n",
       "Least deprived 10%       285\n",
       "Name: count, dtype: int64"
      ]
     },
     "execution_count": 342,
     "metadata": {},
     "output_type": "execute_result"
    }
   ],
   "source": [
    "train.loc[train.casualty_imd_decile.str.contains('Data missing'), 'casualty_imd_decile'] = np.NaN\n",
    "train.casualty_imd_decile.fillna(value=random.choice(train[train.casualty_imd_decile != np.NaN]['casualty_imd_decile']), inplace=True)\n",
    "train.casualty_imd_decile.value_counts(dropna=False)"
   ]
  },
  {
   "cell_type": "code",
   "execution_count": 343,
   "metadata": {},
   "outputs": [
    {
     "data": {
      "text/plain": [
       "casualty_imd_decile\n",
       "More deprived 30-40%    0.312440\n",
       "Most deprived 10%       0.163617\n",
       "More deprived 10-20%    0.115644\n",
       "More deprived 20-30%    0.105752\n",
       "Less deprived 40-50%    0.066182\n",
       "More deprived 40-50%    0.057428\n",
       "Less deprived 30-40%    0.055677\n",
       "Less deprived 20-30%    0.050512\n",
       "Less deprived 10-20%    0.047798\n",
       "Least deprived 10%      0.024950\n",
       "Name: proportion, dtype: float64"
      ]
     },
     "execution_count": 343,
     "metadata": {},
     "output_type": "execute_result"
    }
   ],
   "source": [
    "train.casualty_imd_decile.value_counts(dropna=False, normalize=True)\n"
   ]
  },
  {
   "cell_type": "code",
   "execution_count": 344,
   "metadata": {},
   "outputs": [
    {
     "data": {
      "text/plain": [
       "casualty_home_area_type\n",
       "Urban area    0.876740\n",
       "Small town    0.077913\n",
       "Rural         0.045347\n",
       "Name: proportion, dtype: float64"
      ]
     },
     "execution_count": 344,
     "metadata": {},
     "output_type": "execute_result"
    }
   ],
   "source": [
    "train.casualty_home_area_type.value_counts(dropna=False, normalize=True)\n"
   ]
  },
  {
   "cell_type": "code",
   "execution_count": 345,
   "metadata": {},
   "outputs": [
    {
     "data": {
      "text/plain": [
       "Index(['number_of_vehicles', 'number_of_casualties', 'day_of_week', 'time',\n",
       "       'local_authority_district', 'speed_limit', 'junction_detail',\n",
       "       'pedestrian_crossing_physical_facilities', 'light_conditions',\n",
       "       'weather_conditions', 'road_surface_conditions', 'urban_or_rural_area',\n",
       "       'sex_of_casualty', 'age_of_casualty', 'casualty_severity',\n",
       "       'car_passenger', 'casualty_type', 'casualty_home_area_type',\n",
       "       'casualty_imd_decile', 'Year', 'Month', 'Day', 'wind_conditions'],\n",
       "      dtype='object')"
      ]
     },
     "execution_count": 345,
     "metadata": {},
     "output_type": "execute_result"
    }
   ],
   "source": [
    "train.columns"
   ]
  },
  {
   "cell_type": "code",
   "execution_count": 346,
   "metadata": {},
   "outputs": [
    {
     "name": "stdout",
     "output_type": "stream",
     "text": [
      "Index(['day_of_week', 'local_authority_district', 'junction_detail',\n",
      "       'pedestrian_crossing_physical_facilities', 'light_conditions',\n",
      "       'weather_conditions', 'road_surface_conditions', 'urban_or_rural_area',\n",
      "       'sex_of_casualty', 'casualty_severity', 'car_passenger',\n",
      "       'casualty_type', 'casualty_home_area_type', 'casualty_imd_decile',\n",
      "       'wind_conditions'],\n",
      "      dtype='object')\n"
     ]
    }
   ],
   "source": [
    "categorical_feats = train.describe(exclude=[np.number]).columns\n",
    "print(categorical_feats)"
   ]
  },
  {
   "cell_type": "code",
   "execution_count": 347,
   "metadata": {},
   "outputs": [],
   "source": [
    "train = pd.get_dummies(train, columns=categorical_feats, drop_first=True)"
   ]
  },
  {
   "cell_type": "code",
   "execution_count": null,
   "metadata": {},
   "outputs": [],
   "source": []
  }
 ],
 "metadata": {
  "kernelspec": {
   "display_name": "DfT_project_env",
   "language": "python",
   "name": "python3"
  },
  "language_info": {
   "codemirror_mode": {
    "name": "ipython",
    "version": 3
   },
   "file_extension": ".py",
   "mimetype": "text/x-python",
   "name": "python",
   "nbconvert_exporter": "python",
   "pygments_lexer": "ipython3",
   "version": "3.12.0"
  }
 },
 "nbformat": 4,
 "nbformat_minor": 2
}
