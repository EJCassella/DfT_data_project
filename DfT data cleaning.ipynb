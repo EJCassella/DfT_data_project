{
 "cells": [
  {
   "cell_type": "code",
   "execution_count": 1,
   "id": "e6a3a744",
   "metadata": {},
   "outputs": [],
   "source": [
    "import pandas as pd\n",
    "import numpy as np\n",
    "import matplotlib.pyplot as plt \n",
    "import geopandas as gpd"
   ]
  },
  {
   "cell_type": "code",
   "execution_count": 2,
   "id": "78bf20e8",
   "metadata": {},
   "outputs": [],
   "source": [
    "data = pd.read_csv('dft_statistics_collision_and_casualty_last_5_years.csv', low_memory = False)\n",
    "data = data.copy()"
   ]
  },
  {
   "cell_type": "code",
   "execution_count": 45,
   "id": "b4818108",
   "metadata": {},
   "outputs": [
    {
     "data": {
      "text/plain": [
       "accident_index                                         object\n",
       "accident_year                                           int64\n",
       "accident_reference                                     object\n",
       "location_easting_osgr                                 float64\n",
       "location_northing_osgr                                float64\n",
       "longitude                                             float64\n",
       "latitude                                              float64\n",
       "accident_severity                                      object\n",
       "number_of_vehicles                                      int64\n",
       "number_of_casualties                                    int64\n",
       "date                                           datetime64[ns]\n",
       "day_of_week                                            object\n",
       "time                                           datetime64[ns]\n",
       "local_authority_district                               object\n",
       "local_authority_highway                                object\n",
       "first_road_class                                       object\n",
       "first_road_number                                      object\n",
       "road_type                                              object\n",
       "speed_limit                                             int64\n",
       "junction_detail                                        object\n",
       "junction_control                                       object\n",
       "second_road_class                                      object\n",
       "second_road_number                                     object\n",
       "pedestrian_crossing_human_control                      object\n",
       "pedestrian_crossing_physical_facilities                object\n",
       "light_conditions                                       object\n",
       "weather_conditions                                     object\n",
       "road_surface_conditions                                object\n",
       "special_conditions_at_site                             object\n",
       "carriageway_hazards                                    object\n",
       "urban_or_rural_area                                    object\n",
       "did_police_officer_attend_scene_of_accident            object\n",
       "trunk_road_flag                                        object\n",
       "lsoa_of_accident_location                              object\n",
       "vehicle_reference                                       int64\n",
       "casualty_reference                                      int64\n",
       "casualty_class                                         object\n",
       "sex_of_casualty                                        object\n",
       "age_of_casualty                                         int64\n",
       "age_band_of_casualty                                   object\n",
       "casualty_severity                                      object\n",
       "pedestrian_location                                    object\n",
       "pedestrian_movement                                    object\n",
       "car_passenger                                          object\n",
       "bus_or_coach_passenger                                 object\n",
       "pedestrian_road_maintenance_worker                     object\n",
       "casualty_type                                          object\n",
       "casualty_home_area_type                                object\n",
       "casualty_imd_decile                                    object\n",
       "lsoa_of_casualty                                       object\n",
       "dtype: object"
      ]
     },
     "execution_count": 45,
     "metadata": {},
     "output_type": "execute_result"
    }
   ],
   "source": [
    "data.dtypes"
   ]
  },
  {
   "cell_type": "code",
   "execution_count": null,
   "id": "ba8aba97",
   "metadata": {},
   "outputs": [],
   "source": [
    "np.round((data.isna().sum() / data.shape[0]) * 100, 1)"
   ]
  },
  {
   "cell_type": "code",
   "execution_count": null,
   "id": "6694b687",
   "metadata": {},
   "outputs": [],
   "source": [
    "round(data.isin([-1, '-1']).sum() / data.shape[0] * 100, 1)"
   ]
  },
  {
   "cell_type": "code",
   "execution_count": 3,
   "id": "24c416da",
   "metadata": {},
   "outputs": [],
   "source": [
    "data.rename(columns={'accident_year_x': 'accident_year', 'accident_reference_x': 'accident_reference'}, inplace=True)\n",
    "data.drop(labels=['accident_year_y', 'accident_reference_y', 'police_force'], axis=1, inplace=True)"
   ]
  },
  {
   "cell_type": "code",
   "execution_count": 4,
   "id": "880c518d",
   "metadata": {},
   "outputs": [],
   "source": [
    "data.date = pd.to_datetime(data.date, format ='%d/%m/%Y')\n",
    "data.time = pd.to_datetime(data.time, format='%H:%M')"
   ]
  },
  {
   "cell_type": "markdown",
   "id": "855561f8",
   "metadata": {},
   "source": [
    "Removing any rows with unknown casualty ages"
   ]
  },
  {
   "cell_type": "code",
   "execution_count": 6,
   "id": "6489c4f9",
   "metadata": {},
   "outputs": [],
   "source": [
    "data.age_of_casualty[data.age_of_casualty == -1].count()\n",
    "data.age_band_of_casualty.value_counts()\n",
    "data = data[data.age_of_casualty != -1]"
   ]
  },
  {
   "cell_type": "markdown",
   "id": "a14ff24a",
   "metadata": {},
   "source": [
    "37% of local authority district data missing, but full dataset for ONS district. Let's use this to infill the local authority district and drop the ONS district column."
   ]
  },
  {
   "cell_type": "code",
   "execution_count": 9,
   "id": "618f82a2",
   "metadata": {},
   "outputs": [
    {
     "name": "stdout",
     "output_type": "stream",
     "text": [
      "local_authority_district\n",
      "Sheffield    5241\n",
      "Doncaster    3874\n",
      "Rotherham    2702\n",
      "Barnsley     2449\n",
      "Name: count, dtype: int64\n",
      "local_authority_ons_district\n",
      "E08000019    5241\n",
      "E08000017    3874\n",
      "E08000018    2702\n",
      "E08000016    2449\n",
      "Name: count, dtype: int64\n",
      "local_authority_district\n",
      "Sheffield    5241\n",
      "Doncaster    3874\n",
      "Rotherham    2702\n",
      "Barnsley     2449\n",
      "Name: count, dtype: int64\n"
     ]
    }
   ],
   "source": [
    "print(data.local_authority_district.value_counts(dropna=False))\n",
    "print(data.local_authority_ons_district.value_counts(dropna=False))\n",
    "districts = {'E08000019': 'Sheffield', 'E08000017': 'Doncaster', 'E08000018': 'Rotherham', 'E08000016': 'Barnsley'}\n",
    "\n",
    "for ind,row in enumerate(data.local_authority_district):\n",
    "  if row is np.nan:\n",
    "    district = districts[data.local_authority_ons_district.iloc[ind]]\n",
    "    data.local_authority_district.iloc[ind] = district\n",
    "\n",
    "print(data.local_authority_district.value_counts(dropna=False))\n",
    "\n",
    "data.drop(labels=['local_authority_ons_district'], axis=1, inplace=True)"
   ]
  },
  {
   "cell_type": "code",
   "execution_count": 10,
   "id": "a1e3fac6",
   "metadata": {},
   "outputs": [],
   "source": [
    "data.loc[:, 'special_conditions_at_site'].fillna(value='Data missing or out of range', inplace=True)\n",
    "data.loc[:, 'carriageway_hazards'].fillna(value='Data missing or out of range', inplace=True)"
   ]
  },
  {
   "cell_type": "code",
   "execution_count": 42,
   "id": "75025cd6",
   "metadata": {},
   "outputs": [],
   "source": [
    "print(data.longitude.isna().value_counts())\n",
    "data.drop(data[data.longitude.isnull()].index, inplace=True)"
   ]
  },
  {
   "cell_type": "code",
   "execution_count": 46,
   "id": "dd3159c3",
   "metadata": {},
   "outputs": [
    {
     "name": "stderr",
     "output_type": "stream",
     "text": [
      "c:\\Users\\php18ejc\\.conda\\envs\\DfT_project_env\\Lib\\site-packages\\pyproj\\crs\\crs.py:141: FutureWarning: '+init=<authority>:<code>' syntax is deprecated. '<authority>:<code>' is the preferred initialization method. When making the change, be mindful of axis order changes: https://pyproj4.github.io/pyproj/stable/gotchas.html#axis-order-changes-in-proj-6\n",
      "  in_crs_string = _prepare_from_proj_string(in_crs_string)\n"
     ]
    }
   ],
   "source": [
    "geo_data = gpd.GeoDataFrame(data, geometry = gpd.points_from_xy(data.longitude, data.latitude))\n",
    "geo_data.crs = {'init': 'epsg:27700'}\n"
   ]
  },
  {
   "cell_type": "code",
   "execution_count": 47,
   "id": "d6b75ab5",
   "metadata": {},
   "outputs": [
    {
     "data": {
      "text/plain": [
       "<Axes: >"
      ]
     },
     "execution_count": 47,
     "metadata": {},
     "output_type": "execute_result"
    },
    {
     "data": {
      "image/png": "[encoded data removed]",
      "text/plain": [
       "<Figure size 640x480 with 1 Axes>"
      ]
     },
     "metadata": {},
     "output_type": "display_data"
    }
   ],
   "source": [
    "geo_data.plot()"
   ]
  },
  {
   "cell_type": "code",
   "execution_count": 48,
   "id": "dd437e5b",
   "metadata": {},
   "outputs": [],
   "source": [
    "geo_data.to_csv('cleaned_dft_statistics_collision_and_casualty_last_5_years.csv', index=False)"
   ]
  },
  {
   "cell_type": "code",
   "execution_count": null,
   "id": "827ab148",
   "metadata": {},
   "outputs": [],
   "source": []
  }
 ],
 "metadata": {
  "kernelspec": {
   "display_name": "Python 3 (ipykernel)",
   "language": "python",
   "name": "python3"
  },
  "language_info": {
   "codemirror_mode": {
    "name": "ipython",
    "version": 3
   },
   "file_extension": ".py",
   "mimetype": "text/x-python",
   "name": "python",
   "nbconvert_exporter": "python",
   "pygments_lexer": "ipython3",
   "version": "3.12.0"
  }
 },
 "nbformat": 4,
 "nbformat_minor": 5
}
