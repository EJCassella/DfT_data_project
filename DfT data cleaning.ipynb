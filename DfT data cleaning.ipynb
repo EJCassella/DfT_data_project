{
 "cells": [
  {
   "cell_type": "code",
   "execution_count": 30,
   "id": "e6a3a744",
   "metadata": {},
   "outputs": [],
   "source": [
    "import pandas as pd\n",
    "import numpy as np\n",
    "import matplotlib.pyplot as plt \n",
    "import geopandas as gpd"
   ]
  },
  {
   "cell_type": "code",
   "execution_count": 22,
   "id": "78bf20e8",
   "metadata": {},
   "outputs": [],
   "source": [
    "data = pd.read_csv('dft_statistics_collision_and_casualty_last_5_years.csv', low_memory = False)"
   ]
  },
  {
   "cell_type": "code",
   "execution_count": 23,
   "id": "24c416da",
   "metadata": {},
   "outputs": [],
   "source": [
    "data.rename(columns={'accident_year_x': 'accident_year', 'accident_reference_x': 'accident_reference'}, inplace=True)\n",
    "data.drop(labels=['accident_year_y', 'accident_reference_y', 'police_force'], axis=1, inplace=True)"
   ]
  },
  {
   "cell_type": "code",
   "execution_count": 24,
   "id": "880c518d",
   "metadata": {},
   "outputs": [],
   "source": [
    "data.date = pd.to_datetime(data.date, format ='%d/%m/%Y')\n",
    "data.time = pd.to_datetime(data.time, format='%H:%M')"
   ]
  },
  {
   "cell_type": "code",
   "execution_count": 26,
   "id": "0d161049",
   "metadata": {},
   "outputs": [
    {
     "data": {
      "text/plain": [
       "accident_index                                         object\n",
       "accident_year                                           int64\n",
       "accident_reference                                     object\n",
       "location_easting_osgr                                 float64\n",
       "location_northing_osgr                                float64\n",
       "longitude                                             float64\n",
       "latitude                                              float64\n",
       "accident_severity                                      object\n",
       "number_of_vehicles                                      int64\n",
       "number_of_casualties                                    int64\n",
       "date                                           datetime64[ns]\n",
       "day_of_week                                            object\n",
       "time                                           datetime64[ns]\n",
       "local_authority_district                               object\n",
       "local_authority_ons_district                           object\n",
       "local_authority_highway                                object\n",
       "first_road_class                                       object\n",
       "first_road_number                                      object\n",
       "road_type                                              object\n",
       "speed_limit                                             int64\n",
       "junction_detail                                        object\n",
       "junction_control                                       object\n",
       "second_road_class                                      object\n",
       "second_road_number                                     object\n",
       "pedestrian_crossing_human_control                      object\n",
       "pedestrian_crossing_physical_facilities                object\n",
       "light_conditions                                       object\n",
       "weather_conditions                                     object\n",
       "road_surface_conditions                                object\n",
       "special_conditions_at_site                             object\n",
       "carriageway_hazards                                    object\n",
       "urban_or_rural_area                                    object\n",
       "did_police_officer_attend_scene_of_accident            object\n",
       "trunk_road_flag                                        object\n",
       "lsoa_of_accident_location                              object\n",
       "vehicle_reference                                       int64\n",
       "casualty_reference                                      int64\n",
       "casualty_class                                         object\n",
       "sex_of_casualty                                        object\n",
       "age_of_casualty                                        object\n",
       "age_band_of_casualty                                   object\n",
       "casualty_severity                                      object\n",
       "pedestrian_location                                    object\n",
       "pedestrian_movement                                    object\n",
       "car_passenger                                          object\n",
       "bus_or_coach_passenger                                 object\n",
       "pedestrian_road_maintenance_worker                     object\n",
       "casualty_type                                          object\n",
       "casualty_home_area_type                                object\n",
       "casualty_imd_decile                                    object\n",
       "lsoa_of_casualty                                       object\n",
       "dtype: object"
      ]
     },
     "execution_count": 26,
     "metadata": {},
     "output_type": "execute_result"
    }
   ],
   "source": [
    "data.dtypes"
   ]
  },
  {
   "cell_type": "code",
   "execution_count": 41,
   "id": "84e02f3e",
   "metadata": {},
   "outputs": [
    {
     "data": {
      "text/plain": [
       "accident_index                                     0\n",
       "accident_year                                      0\n",
       "accident_reference                                 0\n",
       "location_easting_osgr                              1\n",
       "location_northing_osgr                             1\n",
       "longitude                                          1\n",
       "latitude                                           1\n",
       "accident_severity                                  0\n",
       "number_of_vehicles                                 0\n",
       "number_of_casualties                               0\n",
       "date                                               0\n",
       "day_of_week                                        0\n",
       "time                                               0\n",
       "local_authority_district                        5411\n",
       "local_authority_ons_district                       0\n",
       "local_authority_highway                            0\n",
       "first_road_class                                   0\n",
       "first_road_number                               8067\n",
       "road_type                                          0\n",
       "speed_limit                                        0\n",
       "junction_detail                                    0\n",
       "junction_control                                   0\n",
       "second_road_class                                  0\n",
       "second_road_number                              1940\n",
       "pedestrian_crossing_human_control                  0\n",
       "pedestrian_crossing_physical_facilities            0\n",
       "light_conditions                                   0\n",
       "weather_conditions                                 0\n",
       "road_surface_conditions                            0\n",
       "special_conditions_at_site                     14301\n",
       "carriageway_hazards                            14296\n",
       "urban_or_rural_area                                0\n",
       "did_police_officer_attend_scene_of_accident        0\n",
       "trunk_road_flag                                    0\n",
       "lsoa_of_accident_location                          0\n",
       "vehicle_reference                                  0\n",
       "casualty_reference                                 0\n",
       "casualty_class                                     0\n",
       "sex_of_casualty                                    0\n",
       "age_of_casualty                                14266\n",
       "age_band_of_casualty                               0\n",
       "casualty_severity                                  0\n",
       "pedestrian_location                                0\n",
       "pedestrian_movement                                0\n",
       "car_passenger                                      0\n",
       "bus_or_coach_passenger                             0\n",
       "pedestrian_road_maintenance_worker                 0\n",
       "casualty_type                                      0\n",
       "casualty_home_area_type                            0\n",
       "casualty_imd_decile                                0\n",
       "lsoa_of_casualty                                   0\n",
       "dtype: int64"
      ]
     },
     "execution_count": 41,
     "metadata": {},
     "output_type": "execute_result"
    }
   ],
   "source": [
    "data.isna().sum()"
   ]
  },
  {
   "cell_type": "code",
   "execution_count": 33,
   "id": "dd3159c3",
   "metadata": {},
   "outputs": [],
   "source": [
    "test = gpd.GeoDataFrame(data, geometry = gpd.points_from_xy(data.longitude, data.latitude))\n",
    "test.crs = {'init': 'epsg:27700'}\n"
   ]
  },
  {
   "cell_type": "code",
   "execution_count": 36,
   "id": "d6b75ab5",
   "metadata": {},
   "outputs": [],
   "source": []
  },
  {
   "cell_type": "code",
   "execution_count": null,
   "id": "dd437e5b",
   "metadata": {},
   "outputs": [],
   "source": []
  }
 ],
 "metadata": {
  "kernelspec": {
   "display_name": "Python 3 (ipykernel)",
   "language": "python",
   "name": "python3"
  },
  "language_info": {
   "codemirror_mode": {
    "name": "ipython",
    "version": 3
   },
   "file_extension": ".py",
   "mimetype": "text/x-python",
   "name": "python",
   "nbconvert_exporter": "python",
   "pygments_lexer": "ipython3",
   "version": "3.12.0"
  }
 },
 "nbformat": 4,
 "nbformat_minor": 5
}
